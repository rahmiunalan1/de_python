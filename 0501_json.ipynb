{
 "cells": [
  {
   "cell_type": "code",
   "execution_count": 15,
   "metadata": {},
   "outputs": [],
   "source": [
    "import json\n",
    "import pprintjson as pp"
   ]
  },
  {
   "cell_type": "code",
   "execution_count": 4,
   "metadata": {},
   "outputs": [],
   "source": [
    "data = {\n",
    "    \"president\": {\n",
    "        \"name\": \"Zaphod Beeblebrox\",\n",
    "        \"species\": \"Betelgeusian\"\n",
    "        }\n",
    "}\n",
    "\n",
    "with open(\"data_file.json\",\"w\") as write_file:\n",
    "    json.dump(data, write_file)\n",
    "    #first argument is data object to be serialized\n",
    "    #second argument is the file object to which we will write"
   ]
  },
  {
   "cell_type": "code",
   "execution_count": 12,
   "metadata": {},
   "outputs": [
    {
     "name": "stdout",
     "output_type": "stream",
     "text": [
      "{\n",
      "  \"president\": {\n",
      "    \"name\": \"Zaphod Beeblebrox\",\n",
      "    \"species\": \"Betelgeusian\"\n",
      "  }\n",
      "}\n",
      "<class 'str'>\n"
     ]
    }
   ],
   "source": [
    "json_string = json.dumps(data, indent = 2)\n",
    "print(json_string)\n",
    "print(type(json_string))\n"
   ]
  }
 ],
 "metadata": {
  "kernelspec": {
   "display_name": "Python 3",
   "language": "python",
   "name": "python3"
  },
  "language_info": {
   "codemirror_mode": {
    "name": "ipython",
    "version": 3
   },
   "file_extension": ".py",
   "mimetype": "text/x-python",
   "name": "python",
   "nbconvert_exporter": "python",
   "pygments_lexer": "ipython3",
   "version": "3.10.9"
  },
  "orig_nbformat": 4
 },
 "nbformat": 4,
 "nbformat_minor": 2
}
